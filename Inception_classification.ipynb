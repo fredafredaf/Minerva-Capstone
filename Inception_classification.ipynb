{
  "nbformat": 4,
  "nbformat_minor": 0,
  "metadata": {
    "colab": {
      "name": "Model.ipynb",
      "provenance": [],
      "collapsed_sections": [],
      "history_visible": true,
      "machine_shape": "hm"
    },
    "kernelspec": {
      "name": "python3",
      "display_name": "Python 3",
      "language": "python"
    },
    "accelerator": "GPU"
  },
  "cells": [
    {
      "cell_type": "code",
      "metadata": {
        "id": "Q8kdeoh-a5Tx"
      },
      "source": [
        "#importing libraries\n",
        "from google.colab import drive\n",
        "from keras.preprocessing.image import ImageDataGenerator\n",
        "from keras.applications.inception_v3 import InceptionV3,preprocess_input\n",
        "from keras.layers import GlobalAveragePooling2D,Dense\n",
        "from keras.models import Model\n",
        "from keras.utils.vis_utils import plot_model\n",
        "from keras.optimizers import RMSprop\n",
        "\n",
        "import pprint\n",
        "import tensorflow as tf\n",
        "import zipfile\n",
        "from PIL import Image\n",
        "import random\n",
        "import os\n",
        "import numpy as np\n",
        "from sklearn.metrics import roc_curve\n",
        "from sklearn.metrics import auc\n",
        "import cv2 as cv\n",
        "from numpy import interp\n",
        "import matplotlib.pyplot as plt\n",
        "import pandas as pd\n",
        "import seaborn as sn\n",
        "import shutil\n",
        "\n",
        "from sklearn.metrics import auc\n",
        "from sklearn.metrics import roc_auc_score\n",
        "from sklearn.metrics import roc_curve"
      ],
      "execution_count": 1,
      "outputs": []
    },
    {
      "cell_type": "markdown",
      "metadata": {
        "id": "fXlIbl7CF_dC"
      },
      "source": [
        "# Preparing Images"
      ]
    },
    {
      "cell_type": "code",
      "metadata": {
        "id": "ftfza5fQWKt7"
      },
      "source": [
        "'''\n",
        "the 20x magnification are stored under the folder tiled_image/20\n",
        "the 40x magnification are stored under the folder tiled_image/40\n",
        "\n",
        "'''\n",
        "\n",
        "#loading file from Drive\n",
        "\n",
        "mag= '40'\n",
        "\n",
        "if mag == '20':\n",
        "\n",
        "  local_zip = '/content/drive/My Drive/TCGA data/tiled_image/'+mag+'/exon_19.zip'\n",
        "\n",
        "  zip_ref = zipfile.ZipFile(local_zip, 'r')\n",
        "  zip_ref.extractall('/tmp/train_dir')\n",
        "  zip_ref.close()\n",
        "\n",
        "  local_zip = '/content/drive/My Drive/TCGA data/tiled_image/'+mag+'/exon_21.zip'\n",
        "\n",
        "  zip_ref = zipfile.ZipFile(local_zip, 'r')\n",
        "  zip_ref.extractall('/tmp/train_dir')\n",
        "  zip_ref.close() \n",
        "\n",
        "elif mag == '40':\n",
        "\n",
        "  #exon 21 files in 40x magnification is separated into two zip files due to size\n",
        "\n",
        "  local_zip = '/content/drive/My Drive/TCGA data/tiled_image/'+mag+'/exon_19.zip'\n",
        "\n",
        "  zip_ref = zipfile.ZipFile(local_zip, 'r')\n",
        "  zip_ref.extractall('/tmp/train_dir')\n",
        "  zip_ref.close()\n",
        "\n",
        "  local_zip = '/content/drive/My Drive/TCGA data/tiled_image/'+mag+'/exon_21_1.zip'\n",
        "\n",
        "  zip_ref = zipfile.ZipFile(local_zip, 'r')\n",
        "  zip_ref.extractall('/tmp/train_dir')\n",
        "  zip_ref.close() \n",
        "\n",
        "  local_zip = '/content/drive/My Drive/TCGA data/tiled_image/'+mag+'/exon_21_2.zip'\n",
        "\n",
        "  zip_ref = zipfile.ZipFile(local_zip, 'r')\n",
        "  zip_ref.extractall('/tmp/train_dir')\n",
        "  zip_ref.close()"
      ],
      "execution_count": 2,
      "outputs": []
    },
    {
      "cell_type": "code",
      "metadata": {
        "id": "koz_kEdUQbGo"
      },
      "source": [
        "#move files to another folder to get rid of additional files automatically\n",
        "#added by Colab when extracting the zip file\n",
        "\n",
        "os.mkdir('/tmp/train')\n",
        "os.mkdir('/tmp/train/exon_19')\n",
        "os.mkdir('/tmp/train/exon_21')"
      ],
      "execution_count": 3,
      "outputs": []
    },
    {
      "cell_type": "code",
      "metadata": {
        "id": "DaIaYb_HQfFz"
      },
      "source": [
        "path= '/tmp/train_dir/'\n",
        "img_folder_path = \"/tmp/train/\"\n",
        "\n",
        "if mag == '20':\n",
        "\n",
        "  exons = ['exon_19', 'exon_21']\n",
        "\n",
        "  for ex in exons:\n",
        "    dirListing = sorted(os.listdir(path+ ex))\n",
        "    for i in dirListing[:]:\n",
        "      if i!= '.DS_Store':\n",
        "        dest = shutil.move(path+ex+'/'+i, \"/tmp/train/\"+ex)\n",
        "\n",
        "elif mag == '40':\n",
        "\n",
        "  exons= ['exon_19']\n",
        "\n",
        "  for ex in exons:\n",
        "    dirListing = sorted(os.listdir(path+ ex))\n",
        "    for i in dirListing[:]:\n",
        "      if i!= '.DS_Store':\n",
        "        dest = shutil.move(path+ex+'/'+i, \"/tmp/train/\"+ex)\n",
        "\n",
        "  exons= ['exon_21_1', 'exon_21_2']\n",
        "\n",
        "  for ex in exons:\n",
        "    dirListing = sorted(os.listdir(path+ ex))\n",
        "    for i in dirListing[:]:\n",
        "      if i!= '.DS_Store':\n",
        "        dest = shutil.move(path+ex+'/'+i, \"/tmp/train/exon_21\")"
      ],
      "execution_count": 4,
      "outputs": []
    },
    {
      "cell_type": "code",
      "metadata": {
        "id": "fTdRQC_UZicS"
      },
      "source": [
        "#check that we have the correct number of patient files\n",
        "\n",
        "assert len(os.listdir( \"/tmp/train/exon_21\" )) == 17 and len(os.listdir( \"/tmp/train/exon_19\" )) == 18"
      ],
      "execution_count": 5,
      "outputs": []
    },
    {
      "cell_type": "code",
      "metadata": {
        "id": "6V5ajZmLJ_tY"
      },
      "source": [
        "#get the number of tile imaged for each patient\n",
        "\n",
        "path= '/tmp/train/'\n",
        "\n",
        "dirListing = sorted(os.listdir(path+'exon_19'))\n",
        "num_images_19= [0]*len(dirListing)\n",
        "\n",
        "for k, iter in zip(dirListing[:], range(len(dirListing))):\n",
        "  \n",
        "  if k!= '.DS_Store':\n",
        "    dirListin = os.listdir(path+'exon_19'+'/'+k)\n",
        "    for l in dirListin:\n",
        "      if l!= '.DS_Store':\n",
        "        dirList = os.listdir(path+'exon_19'+'/'+k+'/'+l)\n",
        "        for m in dirList:\n",
        "          if m!= '.DS_Store':\n",
        "              num_images_19[iter]+=1"
      ],
      "execution_count": 6,
      "outputs": []
    },
    {
      "cell_type": "code",
      "metadata": {
        "id": "G8xHRac7uPTt",
        "colab": {
          "base_uri": "https://localhost:8080/"
        },
        "outputId": "25110744-0511-422c-f755-662a1ac2e6a5"
      },
      "source": [
        "sum(num_images_19)"
      ],
      "execution_count": 7,
      "outputs": [
        {
          "output_type": "execute_result",
          "data": {
            "text/plain": [
              "71703"
            ]
          },
          "metadata": {
            "tags": []
          },
          "execution_count": 7
        }
      ]
    },
    {
      "cell_type": "code",
      "metadata": {
        "id": "SN-mY3bI29N9"
      },
      "source": [
        "path= '/tmp/train/'\n",
        "dirListing = sorted(os.listdir(path+'exon_21'))\n",
        "num_images_21= [0]*len(dirListing)\n",
        "\n",
        "for k, iter in zip(dirListing[:], range(len(dirListing))):\n",
        "  \n",
        "  if k!= '.DS_Store':\n",
        "    dirListin = os.listdir(path+'exon_21'+'/'+k)\n",
        "    for l in dirListin:\n",
        "      if l!= '.DS_Store':\n",
        "        dirList = os.listdir(path+'exon_21'+'/'+k+'/'+l)\n",
        "        for m in dirList:\n",
        "          if m!= '.DS_Store':\n",
        "              num_images_21[iter]+=1"
      ],
      "execution_count": 8,
      "outputs": []
    },
    {
      "cell_type": "code",
      "metadata": {
        "colab": {
          "base_uri": "https://localhost:8080/"
        },
        "id": "Wh6j7JpzbFVc",
        "outputId": "16d22bbf-115d-4b2c-acc0-3729b255fe0a"
      },
      "source": [
        "sum(num_images_21)"
      ],
      "execution_count": 9,
      "outputs": [
        {
          "output_type": "execute_result",
          "data": {
            "text/plain": [
              "105685"
            ]
          },
          "metadata": {
            "tags": []
          },
          "execution_count": 9
        }
      ]
    },
    {
      "cell_type": "code",
      "metadata": {
        "id": "6CqXI0s2UfP-"
      },
      "source": [
        "#generate random numbers to assign folders into the validation set.\n",
        "\n",
        "rand = random.sample(range(0, 17), 6)\n",
        "\n",
        "os.mkdir('/tmp/val')\n",
        "os.mkdir('/tmp/val/exon_19')\n",
        "os.mkdir('/tmp/val/exon_21')"
      ],
      "execution_count": 10,
      "outputs": []
    },
    {
      "cell_type": "code",
      "metadata": {
        "id": "D8W-BediwpIe"
      },
      "source": [
        "#get the ranking in terms of number of tiled images for each \n",
        "#patient\n",
        "\n",
        "rank_21= []\n",
        "for i in sorted(num_images_21[:]):\n",
        "  rank_21.append(num_images_21.index(i))\n",
        "\n",
        "rank_19= []\n",
        "for i in sorted(num_images_19[:]):\n",
        "  rank_19.append(num_images_19.index(i))\n"
      ],
      "execution_count": 12,
      "outputs": []
    },
    {
      "cell_type": "code",
      "metadata": {
        "id": "tMJMs1-jZffl"
      },
      "source": [
        "img_folder_path = \"/tmp/train/\"\n",
        "\n",
        "exon= 'exon_19'\n",
        "\n",
        "dirListing = sorted(os.listdir(img_folder_path+ exon))\n",
        "for i in rand:\n",
        "   index= rank_19[i]\n",
        "   dest = shutil.move(img_folder_path+exon+'/'+dirListing[index], \"/tmp/val/\"+exon)\n",
        "                      \n",
        "exon= 'exon_21'\n",
        "\n",
        "dirListing = sorted(os.listdir(img_folder_path+ exon))\n",
        "for i in rand:\n",
        "   index= rank_21[i]\n",
        "   dest = shutil.move(img_folder_path+exon+'/'+dirListing[index], \"/tmp/val/\"+exon)\n"
      ],
      "execution_count": 37,
      "outputs": []
    },
    {
      "cell_type": "code",
      "metadata": {
        "colab": {
          "base_uri": "https://localhost:8080/"
        },
        "id": "5Z26LAM9LXYE",
        "outputId": "d5d24e5c-e723-40f1-fbeb-0678a9d5b49d"
      },
      "source": [
        "train_data_dir = '/tmp/train'\n",
        "\n",
        "#preprocessing_function for color augentation. not used for this project due to \n",
        "#computational resources.\n",
        "\n",
        "'''\n",
        "def augmentation_stain(img):\n",
        "  img = cv.cvtColor(img, cv.COLOR_BGR2RGB)\n",
        "  sig= random.uniform(0.2, 0.5)                     \n",
        "  augmentor = staintools.StainAugmentor(method='vahadane', sigma1=sig, sigma2=sig)\n",
        "  img= img.astype(np.uint8)\n",
        "  augmentor.fit(img)\n",
        "  augmented_image = augmentor.pop()\n",
        "\n",
        "  return augmented_image/255.\n",
        "'''\n",
        "\n",
        "train_datagen = ImageDataGenerator(\n",
        "    preprocessing_function= preprocess_input,\n",
        "    rotation_range=30,\n",
        "    width_shift_range=0.2,\n",
        "    height_shift_range=0.2,\n",
        "    shear_range=0.2,\n",
        "    zoom_range=0.2,\n",
        "    horizontal_flip=True\n",
        ")\n",
        "\n",
        "\n",
        "train_generator = train_datagen.flow_from_directory(directory=train_data_dir,\n",
        "                                  target_size=(299,299),\n",
        "                                  batch_size=64,\n",
        "                                  follow_links= True)"
      ],
      "execution_count": 38,
      "outputs": [
        {
          "output_type": "stream",
          "text": [
            "Found 104169 images belonging to 2 classes.\n"
          ],
          "name": "stdout"
        }
      ]
    },
    {
      "cell_type": "code",
      "metadata": {
        "colab": {
          "base_uri": "https://localhost:8080/"
        },
        "id": "HYD4zwg_Ldxb",
        "outputId": "77217a9b-baf3-4620-84e0-fcd28653efd4"
      },
      "source": [
        "val_data_dir = '/tmp/val'\n",
        "\n",
        "val_datagen = ImageDataGenerator(\n",
        "    preprocessing_function=preprocess_input\n",
        ")\n",
        "\n",
        "val_generator = val_datagen.flow_from_directory(directory= val_data_dir,\n",
        "                                target_size=(299,299),\n",
        "                                batch_size=64)"
      ],
      "execution_count": 39,
      "outputs": [
        {
          "output_type": "stream",
          "text": [
            "Found 73219 images belonging to 2 classes.\n"
          ],
          "name": "stdout"
        }
      ]
    },
    {
      "cell_type": "markdown",
      "metadata": {
        "id": "yzzsxRlJSAHp"
      },
      "source": [
        "# Building Model"
      ]
    },
    {
      "cell_type": "code",
      "metadata": {
        "id": "NtBSY2wIlVkn"
      },
      "source": [
        "def make_model(output):\n",
        "  base_model = InceptionV3(weights='imagenet',include_top=False)\n",
        "  x = base_model.output\n",
        "  x1 = GlobalAveragePooling2D()(x)\n",
        "  x2 = Dense(1024,activation='relu')(x1)\n",
        "  x3 = Dense(512,activation='relu')(x2)\n",
        "  x4 = Dense(128,activation='relu')(x3)\n",
        "  predictions = Dense(output,activation='softmax')(x4)\n",
        "  model = Model(inputs=base_model.input,outputs=predictions)\n",
        "  return model"
      ],
      "execution_count": 16,
      "outputs": []
    },
    {
      "cell_type": "code",
      "metadata": {
        "id": "RdHSMrHZr0a7"
      },
      "source": [
        "# i chose to train the top 2 inception blocks, i.e. we will freeze\n",
        "# the first 249 layers and unfreeze the rest. according to \n",
        "# https://keras.io/applications/#inceptionv3 \n",
        "\n",
        "def setup_to_fine_tune(model):\n",
        "  for layer in model.layers[:249]:\n",
        "    layer.trainable = False\n",
        "  for layer in model.layers[249:]:\n",
        "    layer.trainable = True\n",
        "  model.compile(optimizer=RMSprop(lr=0.01, momentum= 0.01, epsilon=0.1, decay= 0.2),loss='categorical_crossentropy',metrics=['accuracy'])"
      ],
      "execution_count": 17,
      "outputs": []
    },
    {
      "cell_type": "code",
      "metadata": {
        "id": "LWz4fRL7dHws"
      },
      "source": [
        "checkpoint_dir = '/content/drive/My Drive/TCGA data/weights/40x_1921_2/'\n",
        "\n",
        "if not os.path.exists(checkpoint_dir):\n",
        "    os.makedirs(checkpoint_dir)\n",
        "\n",
        "def make_or_restore_model(output):\n",
        "    # Either restore the latest model, or create a fresh one\n",
        "    # if there is no checkpoint available.\n",
        "    checkpoints = [checkpoint_dir + '/' + name\n",
        "                   for name in os.listdir(checkpoint_dir)]\n",
        "\n",
        "    if checkpoints:\n",
        "      latest_checkpoint = max(checkpoints, key=os.path.getctime)\n",
        "      print('Restoring from', latest_checkpoint)\n",
        "      return tf.keras.models.load_model(latest_checkpoint)\n",
        "    else:\n",
        "      print('Creating a new model')\n",
        "      return make_model(output)"
      ],
      "execution_count": 46,
      "outputs": []
    },
    {
      "cell_type": "code",
      "metadata": {
        "id": "_S4YyaW1pWuQ"
      },
      "source": [
        "callbacks = [\n",
        "    # This callback saves a SavedModel every 100 batches.\n",
        "    # We include the acc in the folder name.\n",
        "    tf.keras.callbacks.ModelCheckpoint(\n",
        "        filepath=checkpoint_dir + '/accuracy={accuracy:.3f}',\n",
        "        monitor='loss',\n",
        "        mode='min',\n",
        "        save_freq=112)\n",
        "]"
      ],
      "execution_count": 49,
      "outputs": []
    },
    {
      "cell_type": "code",
      "metadata": {
        "colab": {
          "base_uri": "https://localhost:8080/"
        },
        "id": "IQE9g35USBM_",
        "outputId": "3045fc77-8937-4b89-8403-e86b6ec1c811"
      },
      "source": [
        "model = make_or_restore_model(2)\n",
        "setup_to_fine_tune(model)"
      ],
      "execution_count": 50,
      "outputs": [
        {
          "output_type": "stream",
          "text": [
            "Creating a new model\n"
          ],
          "name": "stdout"
        }
      ]
    },
    {
      "cell_type": "code",
      "metadata": {
        "id": "N055Q7AmM7Mg",
        "colab": {
          "base_uri": "https://localhost:8080/"
        },
        "outputId": "47589131-2851-4d10-a4d6-654b86daaa51"
      },
      "source": [
        "history_tl = model.fit(train_generator,\n",
        "                    steps_per_epoch=112,\n",
        "                    epochs=10,\n",
        "                    validation_data=val_generator,\n",
        "                    validation_steps=5,\n",
        "                    callbacks= callbacks)\n"
      ],
      "execution_count": 51,
      "outputs": [
        {
          "output_type": "stream",
          "text": [
            "Epoch 1/10\n",
            "112/112 [==============================] - ETA: 0s - loss: 0.6464 - accuracy: 0.6139INFO:tensorflow:Assets written to: /content/drive/My Drive/TCGA data/weights/40x_1921_3/accuracy=0.643/assets\n",
            "112/112 [==============================] - 204s 2s/step - loss: 0.6463 - accuracy: 0.6142 - val_loss: 0.7043 - val_accuracy: 0.5562\n",
            "Epoch 2/10\n",
            "112/112 [==============================] - ETA: 0s - loss: 0.6019 - accuracy: 0.6786INFO:tensorflow:Assets written to: /content/drive/My Drive/TCGA data/weights/40x_1921_3/accuracy=0.682/assets\n",
            "112/112 [==============================] - 196s 2s/step - loss: 0.6019 - accuracy: 0.6786 - val_loss: 0.7136 - val_accuracy: 0.5750\n",
            "Epoch 3/10\n",
            "112/112 [==============================] - ETA: 0s - loss: 0.5926 - accuracy: 0.6974INFO:tensorflow:Assets written to: /content/drive/My Drive/TCGA data/weights/40x_1921_3/accuracy=0.701/assets\n",
            "112/112 [==============================] - 194s 2s/step - loss: 0.5926 - accuracy: 0.6974 - val_loss: 0.7118 - val_accuracy: 0.6000\n",
            "Epoch 4/10\n",
            "112/112 [==============================] - ETA: 0s - loss: 0.5806 - accuracy: 0.7069INFO:tensorflow:Assets written to: /content/drive/My Drive/TCGA data/weights/40x_1921_3/accuracy=0.708/assets\n",
            "112/112 [==============================] - 194s 2s/step - loss: 0.5805 - accuracy: 0.7069 - val_loss: 0.7373 - val_accuracy: 0.6000\n",
            "Epoch 5/10\n",
            "112/112 [==============================] - ETA: 0s - loss: 0.5743 - accuracy: 0.7148INFO:tensorflow:Assets written to: /content/drive/My Drive/TCGA data/weights/40x_1921_3/accuracy=0.713/assets\n",
            "112/112 [==============================] - 203s 2s/step - loss: 0.5743 - accuracy: 0.7148 - val_loss: 0.7061 - val_accuracy: 0.6156\n",
            "Epoch 6/10\n",
            "112/112 [==============================] - ETA: 0s - loss: 0.5747 - accuracy: 0.7119INFO:tensorflow:Assets written to: /content/drive/My Drive/TCGA data/weights/40x_1921_3/accuracy=0.711/assets\n",
            "112/112 [==============================] - 199s 2s/step - loss: 0.5747 - accuracy: 0.7119 - val_loss: 0.6905 - val_accuracy: 0.6656\n",
            "Epoch 7/10\n",
            "112/112 [==============================] - ETA: 0s - loss: 0.5724 - accuracy: 0.7061INFO:tensorflow:Assets written to: /content/drive/My Drive/TCGA data/weights/40x_1921_3/accuracy=0.708/assets\n",
            "112/112 [==============================] - 199s 2s/step - loss: 0.5723 - accuracy: 0.7062 - val_loss: 0.7157 - val_accuracy: 0.5844\n",
            "Epoch 8/10\n",
            "112/112 [==============================] - ETA: 0s - loss: 0.5671 - accuracy: 0.7220INFO:tensorflow:Assets written to: /content/drive/My Drive/TCGA data/weights/40x_1921_3/accuracy=0.723/assets\n",
            "112/112 [==============================] - 197s 2s/step - loss: 0.5671 - accuracy: 0.7220 - val_loss: 0.7198 - val_accuracy: 0.6031\n",
            "Epoch 9/10\n",
            "112/112 [==============================] - ETA: 0s - loss: 0.5572 - accuracy: 0.7175INFO:tensorflow:Assets written to: /content/drive/My Drive/TCGA data/weights/40x_1921_3/accuracy=0.717/assets\n",
            "112/112 [==============================] - 195s 2s/step - loss: 0.5573 - accuracy: 0.7175 - val_loss: 0.7129 - val_accuracy: 0.5938\n",
            "Epoch 10/10\n",
            "112/112 [==============================] - ETA: 0s - loss: 0.5495 - accuracy: 0.7316INFO:tensorflow:Assets written to: /content/drive/My Drive/TCGA data/weights/40x_1921_3/accuracy=0.726/assets\n",
            "112/112 [==============================] - 193s 2s/step - loss: 0.5496 - accuracy: 0.7316 - val_loss: 0.6996 - val_accuracy: 0.6219\n"
          ],
          "name": "stdout"
        }
      ]
    },
    {
      "cell_type": "code",
      "metadata": {
        "colab": {
          "base_uri": "https://localhost:8080/"
        },
        "id": "mnW3SNskyfDB",
        "outputId": "53c88c2a-6b97-4af6-e10b-939ad0b942fa"
      },
      "source": [
        "best = make_or_restore_model(2)"
      ],
      "execution_count": 52,
      "outputs": [
        {
          "output_type": "stream",
          "text": [
            "Restoring from /content/drive/My Drive/TCGA data/weights/40x_1921_3//accuracy=0.726\n"
          ],
          "name": "stdout"
        }
      ]
    },
    {
      "cell_type": "markdown",
      "metadata": {
        "id": "1NDnhZT-ysoJ"
      },
      "source": [
        "# Generate ROC Plot"
      ]
    },
    {
      "cell_type": "code",
      "metadata": {
        "id": "TMkYqhPNRhjh"
      },
      "source": [
        "y_pred = best.predict(val_generator)\n",
        "labels= val_generator.classes"
      ],
      "execution_count": 53,
      "outputs": []
    },
    {
      "cell_type": "code",
      "metadata": {
        "id": "q-yCrNWXpU2N"
      },
      "source": [
        "y_test= []\n",
        "for i in range(len(labels)):\n",
        "  if labels[i]==0:\n",
        "    y_test.append([1, 0])\n",
        "  else:\n",
        "    y_test.append([0, 1])"
      ],
      "execution_count": 54,
      "outputs": []
    },
    {
      "cell_type": "code",
      "metadata": {
        "id": "bAh3P8SagdCa"
      },
      "source": [
        "y_pred_keras = y_pred.ravel()\n",
        "y_true= np.array(y_test).ravel()\n",
        "fpr_keras, tpr_keras, thresholds_keras = roc_curve(y_true, y_pred_keras)\n",
        "\n",
        "auc_keras = auc(fpr_keras, tpr_keras)"
      ],
      "execution_count": 55,
      "outputs": []
    },
    {
      "cell_type": "code",
      "metadata": {
        "id": "b1OaEt3ahtif"
      },
      "source": [
        "n_bootstraps = 1000\n",
        "seed = 42  \n",
        "bootstrapped_scores = []\n",
        "\n",
        "r = np.random.RandomState(seed)\n",
        "for i in range(n_bootstraps):\n",
        "\n",
        "    # bootstrap by sampling with replacement \n",
        "    indices = r.randint(0, len(y_pred_keras), len(y_pred_keras))\n",
        "    if len(np.unique(y_true[indices])) < 2:\n",
        "       \n",
        "        continue\n",
        "\n",
        "    score = roc_auc_score(y_true[indices], y_pred_keras[indices])\n",
        "    bootstrapped_scores.append(score)\n",
        "    "
      ],
      "execution_count": 56,
      "outputs": []
    },
    {
      "cell_type": "code",
      "metadata": {
        "id": "HGznhQzSi3iL"
      },
      "source": [
        "# Compute the lower and upper bound of the 95% confidence interval\n",
        "\n",
        "sorted_scores = np.array(bootstrapped_scores)\n",
        "sorted_scores.sort()\n",
        "\n",
        "confidence_lower = sorted_scores[int(0.025 * len(sorted_scores))]\n",
        "confidence_upper = sorted_scores[int(0.975 * len(sorted_scores))]"
      ],
      "execution_count": 57,
      "outputs": []
    },
    {
      "cell_type": "code",
      "metadata": {
        "colab": {
          "base_uri": "https://localhost:8080/",
          "height": 330
        },
        "id": "QeVf-mwVjC8i",
        "outputId": "6a9f4eb4-8e75-4a9b-ffcc-57f17c605d77"
      },
      "source": [
        "plt.figure()\n",
        "plt.plot([0, 1], [0, 1], 'k--')\n",
        "plt.plot(fpr_keras, tpr_keras, label='AUC (area = {:.3f})'.format(auc_keras))\n",
        "\n",
        "plt.xlabel('False positive rate')\n",
        "plt.ylabel('True positive rate')\n",
        "plt.title('ROC curve')\n",
        "plt.legend(loc='best')\n",
        "plt.show()\n",
        "\n",
        "print(\" \")\n",
        "print(\"             95% CI: [{:0.3f}, {:0.3}]\".format(\n",
        "    confidence_lower, confidence_upper))"
      ],
      "execution_count": 58,
      "outputs": [
        {
          "output_type": "display_data",
          "data": {
            "image/png": "[encoded data removed]",
            "text/plain": [
              "<Figure size 432x288 with 1 Axes>"
            ]
          },
          "metadata": {
            "tags": [],
            "needs_background": "light"
          }
        },
        {
          "output_type": "stream",
          "text": [
            " \n",
            "             95% CI: [0.630, 0.636]\n"
          ],
          "name": "stdout"
        }
      ]
    },
    {
      "cell_type": "code",
      "metadata": {
        "id": "Zm4CHyUV2MHr"
      },
      "source": [
        "# per slide ROC\n",
        "\n",
        "y_true = []\n",
        "for _ in range(6):\n",
        "  y_true.append([1, 0])\n",
        "\n",
        "for _ in range(6):\n",
        "  y_true.append([0, 1])\n",
        "\n",
        "num_list = []\n",
        "\n",
        "for i in rand:\n",
        "   index= rank_19[i]\n",
        "   num_list.append(num_images_19[index])\n",
        "\n",
        "for i in rand:\n",
        "   index= rank_21[i]\n",
        "   num_list.append(num_images_21[index])   "
      ],
      "execution_count": 59,
      "outputs": []
    },
    {
      "cell_type": "code",
      "metadata": {
        "id": "8X4Cn0AX5BM7"
      },
      "source": [
        "#averaging out the probability from each individual tile\n",
        "\n",
        "y_pred_slide = np.array([[0.0, 0.0]]* 12)\n",
        "\n",
        "start = 0\n",
        "end = 0\n",
        "\n",
        "for i in range(len(num_list)):\n",
        "  end += num_list[i]\n",
        "\n",
        "  for j in range(start, end):\n",
        "    y_pred_slide[i] += y_pred[j]\n",
        "\n",
        "  start = end\n",
        "\n",
        "for i in range(len(num_list)):\n",
        "  y_pred_slide[i] = y_pred_slide[i]/ num_list[i]"
      ],
      "execution_count": 60,
      "outputs": []
    },
    {
      "cell_type": "code",
      "metadata": {
        "id": "wVtxzw_q7h5p"
      },
      "source": [
        "y_pred_keras = y_pred_slide.ravel()\n",
        "y_true= np.array(y_true).ravel()\n",
        "fpr_keras, tpr_keras, thresholds_keras = roc_curve(y_true, y_pred_keras)\n",
        "\n",
        "auc_keras = auc(fpr_keras, tpr_keras)"
      ],
      "execution_count": 61,
      "outputs": []
    },
    {
      "cell_type": "code",
      "metadata": {
        "id": "QnhcdFuy8MJd"
      },
      "source": [
        "n_bootstraps = 1000\n",
        "seed = 42  \n",
        "bootstrapped_scores = []\n",
        "\n",
        "r = np.random.RandomState(seed)\n",
        "for i in range(n_bootstraps):\n",
        "\n",
        "    # bootstrap by sampling with replacement on the prediction indices\n",
        "    indices = r.randint(0, len(y_pred_keras), len(y_pred_keras))\n",
        "    if len(np.unique(y_true[indices])) < 2:\n",
        "       \n",
        "        # We need at least one positive and one negative sample for ROC AUC\n",
        "        # to be defined: reject the sample\n",
        "        continue\n",
        "\n",
        "    score = roc_auc_score(y_true[indices], y_pred_keras[indices])\n",
        "    bootstrapped_scores.append(score)"
      ],
      "execution_count": 62,
      "outputs": []
    },
    {
      "cell_type": "code",
      "metadata": {
        "id": "Pun5uxll8QZu"
      },
      "source": [
        "sorted_scores = np.array(bootstrapped_scores)\n",
        "sorted_scores.sort()\n",
        "\n",
        "# Computing the lower and upper bound of the 95% confidence interval\n",
        "\n",
        "confidence_lower = sorted_scores[int(0.025 * len(sorted_scores))]\n",
        "confidence_upper = sorted_scores[int(0.975 * len(sorted_scores))]"
      ],
      "execution_count": 63,
      "outputs": []
    },
    {
      "cell_type": "code",
      "metadata": {
        "colab": {
          "base_uri": "https://localhost:8080/",
          "height": 330
        },
        "id": "JcCTvlpJ8S_u",
        "outputId": "fd372504-1fcd-45e2-9b9a-26afdde605dc"
      },
      "source": [
        "plt.figure()\n",
        "plt.plot([0, 1], [0, 1], 'k--')\n",
        "plt.plot(fpr_keras, tpr_keras, label='AUC (area = {:.3f})'.format(auc_keras))\n",
        "\n",
        "plt.xlabel('False positive rate')\n",
        "plt.ylabel('True positive rate')\n",
        "plt.title('Per Slide ROC curve')\n",
        "plt.legend(loc='best')\n",
        "plt.show()\n",
        "\n",
        "print(\" \")\n",
        "print(\"             95% CI: [{:0.3f}, {:0.3}]\".format(\n",
        "    confidence_lower, confidence_upper))"
      ],
      "execution_count": 64,
      "outputs": [
        {
          "output_type": "display_data",
          "data": {
            "image/png": "[encoded data removed]",
            "text/plain": [
              "<Figure size 432x288 with 1 Axes>"
            ]
          },
          "metadata": {
            "tags": [],
            "needs_background": "light"
          }
        },
        {
          "output_type": "stream",
          "text": [
            " \n",
            "             95% CI: [0.333, 0.793]\n"
          ],
          "name": "stdout"
        }
      ]
    },
    {
      "cell_type": "code",
      "metadata": {
        "id": "nqso7SOypuYz"
      },
      "source": [
        "#move validation set back to the train set to perform another trial\n",
        "\n",
        "path = \"/tmp/val/\"\n",
        "exons= ['exon_21', 'exon_19']\n",
        "\n",
        "for ex in exons:\n",
        "  dirListing = sorted(os.listdir(path+ ex))\n",
        "  for i in dirListing[:]:\n",
        "    if i!= '.DS_Store':\n",
        "      dest = shutil.move(path+ex+'/'+i, \"/tmp/train/\"+ex)"
      ],
      "execution_count": 66,
      "outputs": []
    }
  ]
}