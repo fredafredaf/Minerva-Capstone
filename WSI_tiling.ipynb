{
  "nbformat": 4,
  "nbformat_minor": 0,
  "metadata": {
    "colab": {
      "name": "Data.ipynb",
      "provenance": [],
      "collapsed_sections": [],
      "toc_visible": true
    },
    "kernelspec": {
      "name": "python3",
      "display_name": "Python 3"
    }
  },
  "cells": [
    {
      "cell_type": "markdown",
      "metadata": {
        "id": "aDdwFzsS5hZJ"
      },
      "source": [
        "# Preparing SVS Slides\n"
      ]
    },
    {
      "cell_type": "code",
      "metadata": {
        "id": "NJgOMOi0F3HK"
      },
      "source": [
        "#install libraries\n",
        "!apt update && apt install -y openslide-tools\n",
        "!pip install openslide-python\n",
        "import openslide\n",
        "from openslide.deepzoom import DeepZoomGenerator\n",
        "from matplotlib import pyplot as plt\n",
        "import numpy as np\n",
        "from skimage import io\n",
        "import shutil "
      ],
      "execution_count": null,
      "outputs": []
    },
    {
      "cell_type": "code",
      "metadata": {
        "id": "_Kz6pITPGWj6"
      },
      "source": [
        "#connect to google drive\n",
        "from google.colab import drive\n",
        "drive.mount('/content/gdrive')"
      ],
      "execution_count": null,
      "outputs": []
    },
    {
      "cell_type": "code",
      "metadata": {
        "id": "FNC2P21eIWfU"
      },
      "source": [
        "import os\n",
        "#get path to where the SVS slides are stored\n",
        "path= \"/content/drive/My Drive/TCGA data/EGFR/exon 21/\"\n",
        "os.chdir(path)\n",
        "os.getcwd()\n",
        "q =!ls"
      ],
      "execution_count": null,
      "outputs": []
    },
    {
      "cell_type": "code",
      "metadata": {
        "id": "JQPI5CZLnMpl"
      },
      "source": [
        "#recommed seperating the process into a few times \n",
        "#to prevent timeout and too much files\n",
        "k= q[:10]"
      ],
      "execution_count": null,
      "outputs": []
    },
    {
      "cell_type": "code",
      "metadata": {
        "id": "M0VfyimmId2H"
      },
      "source": [
        "#read slide file with openslide\n",
        "slide= [None]*len(k);\n",
        "paths= [None]*len(k);\n",
        "for i in range(len(k)):\n",
        "  paths[i]= path+ k[i]\n",
        "  slide[i]= openslide.open_slide(paths[i])"
      ],
      "execution_count": null,
      "outputs": []
    },
    {
      "cell_type": "code",
      "metadata": {
        "id": "kOlsB9bmRJsT"
      },
      "source": [
        "#progress bar\n",
        "from tqdm import tqdm\n",
        "\n",
        "#ignore the low-resolution warning\n",
        "import warnings\n",
        "warnings.filterwarnings('ignore')"
      ],
      "execution_count": null,
      "outputs": []
    },
    {
      "cell_type": "markdown",
      "metadata": {
        "id": "E0nBFb2E5yMb"
      },
      "source": [
        "# Tiling SVS Slides"
      ]
    },
    {
      "cell_type": "code",
      "metadata": {
        "id": "1s62B5c7OM1j"
      },
      "source": [
        "print(\"Tiling\", len(k), \"files\")\n",
        "for i in range(len(k)):\n",
        "  #tile images into different layers\n",
        "  data_gen = DeepZoomGenerator(slide[i], tile_size=512, overlap=0, limit_bounds=False)\n",
        "  #get the level with 20x magnification\n",
        "  #for 40x magnification, use data_gen.level_count-1\n",
        "  level = data_gen.level_count-2\n",
        "  #get dimension at that level\n",
        "  (a,b)=data_gen.level_dimensions[level]\n",
        "  result_path= '/tmp/exon/'+ k[i][:23]\n",
        "  #calculate number of slides\n",
        "  num_w = int(np.floor(a/512))+1\n",
        "  num_h = int(np.floor(b/512))+1 \n",
        "\n",
        "  if not os.path.exists(result_path):\n",
        "    os.mkdir(result_path)\n",
        "\n",
        "  print(\"current image is\", k[i][:23])\n",
        "  print(\"dimension is\",num_w, num_h)\n",
        "\n",
        "  with tqdm(total=num_w*num_h) as pbar:\n",
        "    for w in range(num_w):\n",
        "      for h in range(num_h):\n",
        "        img = np.array(data_gen.get_tile(level, (w, h))) #切图\n",
        "        pbar.update(1)\n",
        "        #if the image is not mostly backgroud\n",
        "        white =np.sum(np.any(img >= [220, 220, 220], axis=-1))/(512*512)\n",
        "        if (white<0.5 and (img.shape[0]+ img.shape[1]==1024)):\n",
        "          io.imsave(os.path.join(result_path, str(w)+'_'+str(h)+\".jpg\"), img)"
      ],
      "execution_count": null,
      "outputs": []
    }
  ]
}