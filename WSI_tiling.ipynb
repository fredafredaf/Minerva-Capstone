{
  "nbformat": 4,
  "nbformat_minor": 0,
  "metadata": {
    "colab": {
      "name": "Data.ipynb",
      "provenance": [],
      "collapsed_sections": [],
      "toc_visible": true
    },
    "kernelspec": {
      "name": "python3",
      "display_name": "Python 3"
    }
  },
  "cells": [
    {
      "cell_type": "markdown",
      "metadata": {
        "id": "aDdwFzsS5hZJ"
      },
      "source": [
        "# Preparing SVS Slides\n"
      ]
    },
    {
      "cell_type": "code",
      "metadata": {
        "id": "NJgOMOi0F3HK"
      },
      "source": [
        "#install and import libraries\n",
        "!apt update && apt install -y openslide-tools\n",
        "!pip install openslide-python\n",
        "\n",
        "import openslide\n",
        "from openslide.deepzoom import DeepZoomGenerator\n",
        "from matplotlib import pyplot as plt\n",
        "import numpy as np\n",
        "from skimage import io\n",
        "import shutil \n",
        "import os\n",
        "\n",
        "#progress bar during tiling\n",
        "from tqdm import tqdm\n",
        "#ignore the low-resolution warning\n",
        "import warnings\n",
        "warnings.filterwarnings('ignore')"
      ],
      "execution_count": null,
      "outputs": []
    },
    {
      "cell_type": "code",
      "metadata": {
        "id": "FNC2P21eIWfU"
      },
      "source": [
        "'''\n",
        "for my experience, it is recommended to tile the files\n",
        "locally since the tiling process often exceed the allowed\n",
        "number of I/O operations from Colab. \n",
        "\n",
        "'''\n",
        "\n",
        "#get path to where the SVS slides are stored \n",
        "\n",
        "path= '/Users/Downloads/svs/'\n",
        "os.chdir(path)\n",
        "os.getcwd()\n",
        "k = !ls"
      ],
      "execution_count": null,
      "outputs": []
    },
    {
      "cell_type": "code",
      "metadata": {
        "id": "M0VfyimmId2H"
      },
      "source": [
        "#read slide file with openslide\n",
        "\n",
        "slide = [None]*len(k)\n",
        "paths = [None]*len(k)\n",
        "\n",
        "for i in range(len(k)):\n",
        "\n",
        "  paths[i] = path+ k[i]\n",
        "  slide[i] = openslide.open_slide(paths[i])"
      ],
      "execution_count": null,
      "outputs": []
    },
    {
      "cell_type": "markdown",
      "metadata": {
        "id": "E0nBFb2E5yMb"
      },
      "source": [
        "# Tiling SVS Slides"
      ]
    },
    {
      "cell_type": "code",
      "metadata": {
        "id": "1s62B5c7OM1j"
      },
      "source": [
        "print(\"Tiling\", len(k), \"files\")\n",
        "\n",
        "for i in range(len(k)):\n",
        "\n",
        "  data_gen = DeepZoomGenerator(slide[i], tile_size=512, overlap=0, limit_bounds=False)\n",
        "\n",
        "  #get the level with 20x magnification\n",
        "  #for 40x magnification, use data_gen.level_count-1\n",
        "\n",
        "  level = data_gen.level_count-2\n",
        "\n",
        "  #get dimension at that level and define where to store the \n",
        "  #tiled images stored\n",
        "\n",
        "  (a,b)=data_gen.level_dimensions[level]\n",
        "  result_path= '/Users/Downloads/tiled_images/'+ k[i][:23]\n",
        "  \n",
        "  #calculate number of slides\n",
        "\n",
        "  num_w = int(np.floor(a/512))+1\n",
        "  num_h = int(np.floor(b/512))+1 \n",
        "\n",
        "  if not os.path.exists(result_path):\n",
        "    os.mkdir(result_path)\n",
        "\n",
        "  print(\"current image is\", k[i][:23])\n",
        "  print(\"dimension is\",num_w, num_h)\n",
        "\n",
        "  with tqdm(total=num_w*num_h) as pbar:\n",
        "\n",
        "    for w in range(num_w):\n",
        "      for h in range(num_h):\n",
        "        img = np.array(data_gen.get_tile(level, (w, h))) \n",
        "        pbar.update(1)\n",
        "\n",
        "        #if the image is not mostly backgroud, i.e less than 50% background\n",
        "        \n",
        "        white = np.sum(np.any(img >= [220, 220, 220], axis=-1))/(512*512)\n",
        "\n",
        "        #second term to make sure image is the right size\n",
        "        \n",
        "        if (white<0.5 and (img.shape[0]+ img.shape[1]==1024)):\n",
        "          io.imsave(os.path.join(result_path, str(w)+'_'+str(h)+\".jpg\"), img)"
      ],
      "execution_count": null,
      "outputs": []
    }
  ]
}